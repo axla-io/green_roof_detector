{
 "cells": [
  {
   "cell_type": "code",
   "execution_count": null,
   "id": "c1f90296",
   "metadata": {
    "vscode": {
     "languageId": "shellscript"
    }
   },
   "outputs": [],
   "source": [
    "#!/bin/bash\n",
    "\n",
    "ssh ll9426@della-gpu.princeton.edu\n",
    "\n",
    "module purge\n",
    "module load anaconda3/2024.6\n",
    "conda create --name jx-env python=3.12 -y\n",
    "conda activate jx-env\n",
    "pip install -U \"jax[cuda12]\"\n",
    "\n",
    "module load cudatoolkit/12.8 \n"
   ]
  }
 ],
 "metadata": {
  "language_info": {
   "name": "python"
  }
 },
 "nbformat": 4,
 "nbformat_minor": 5
}
